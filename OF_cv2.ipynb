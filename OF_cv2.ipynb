{
  "nbformat": 4,
  "nbformat_minor": 0,
  "metadata": {
    "kernelspec": {
      "display_name": "Python 3",
      "language": "python",
      "name": "python3"
    },
    "language_info": {
      "codemirror_mode": {
        "name": "ipython",
        "version": 3
      },
      "file_extension": ".py",
      "mimetype": "text/x-python",
      "name": "python",
      "nbconvert_exporter": "python",
      "pygments_lexer": "ipython3",
      "version": "3.7.3"
    },
    "colab": {
      "name": "OF_cv2.ipynb",
      "provenance": [],
      "collapsed_sections": []
    }
  },
  "cells": [
    {
      "cell_type": "code",
      "metadata": {
        "colab": {
          "base_uri": "https://localhost:8080/"
        },
        "id": "jTxFzO6HFNxh",
        "outputId": "a30724b2-3bcb-4da9-bceb-4274d23f3376"
      },
      "source": [
        "from google.colab import drive\n",
        "drive.mount('/content/drive')"
      ],
      "execution_count": 1,
      "outputs": [
        {
          "output_type": "stream",
          "text": [
            "Drive already mounted at /content/drive; to attempt to forcibly remount, call drive.mount(\"/content/drive\", force_remount=True).\n"
          ],
          "name": "stdout"
        }
      ]
    },
    {
      "cell_type": "code",
      "metadata": {
        "id": "vnDlOZ-2HQSJ"
      },
      "source": [
        "%matplotlib inline\n",
        "from time import sleep\n",
        "import time\n",
        "\n",
        "import os\n",
        "import sys\n",
        "import h5py\n",
        "import numpy as np\n",
        "import pandas as pd\n",
        "from scipy import signal\n",
        "from scipy.ndimage.filters import gaussian_filter\n",
        "import glob\n",
        "\n",
        "import cv2\n",
        "import matplotlib.pyplot as plt\n",
        "from IPython.display import clear_output"
      ],
      "execution_count": 2,
      "outputs": []
    },
    {
      "cell_type": "code",
      "metadata": {
        "id": "F2KH_waYHWIK"
      },
      "source": [
        "main = '/content/drive/My Drive/Colab Notebooks/CV_notebooks/project/'"
      ],
      "execution_count": 3,
      "outputs": []
    },
    {
      "cell_type": "code",
      "metadata": {
        "id": "mJvMAPYSejhL"
      },
      "source": [
        "def reduce_spatial(img, scale):\n",
        "    width = int(img.shape[1] * scale / 100)\n",
        "    height = int(img.shape[0] * scale / 100)\n",
        "    dim = (width, height)\n",
        "    # resize image\n",
        "    resized = cv2.resize(img, dim, interpolation=cv2.INTER_AREA)\n",
        "    return resized\n",
        "\n",
        "def scaleArea(orig_frame, targetArea=(512*288)):\n",
        "  frameArea = orig_frame.shape[0]*orig_frame.shape[1]\n",
        "  s = np.sqrt(targetArea/frameArea)\n",
        "  dim = (int(orig_frame.shape[1]*s),int(orig_frame.shape[0]*s))\n",
        "  resized = cv2.resize(orig_frame, dim, interpolation = cv2.INTER_AREA)\n",
        "  return resized, s\n",
        "\n",
        "\n",
        "def load_video(data_path, video_name, reduce=False):\n",
        "  frames = []\n",
        "  for i in sorted(glob.glob(data_path + '/' + video_name +'/*.png')):\n",
        "    img = cv2.imread(i, 0)\n",
        "    if reduce:\n",
        "      # img = reduce_spatial(img, 30)\n",
        "      img, _ = scaleArea(img)\n",
        "    frames.append(img)\n",
        "  frames = np.array(frames)\n",
        "  return frames  \n",
        "\n",
        "\n",
        "def calculateOF(frames, data_path, video_name, reduce=False, sub_mean=False, store=False, save_folder='opticalFlow'):\n",
        "  t1 = time.time()\n",
        "  height, width = frames.shape[1], frames.shape[2]\n",
        "  u_list = np.zeros((frames.shape[0], height, width))\n",
        "  v_list = np.zeros((frames.shape[0], height, width))\n",
        "\n",
        "  # calculate OF with opencv\n",
        "  for ff in range(1, frames.shape[0]):\n",
        "    prvs = frames[ff-1] # - frames[ff-1].mean()\n",
        "    next = frames[ff] # -  frames[ff].mean()\n",
        "    if sub_mean:\n",
        "      prvs = prvs - prvs.mean()\n",
        "      next = next - next.mean()\n",
        "    # add filtering\n",
        "    # prvs = gaussian_filter(prvs, 1.5)\n",
        "    # next = gaussian_filter(next, 1.5)\n",
        "    flow = cv2.calcOpticalFlowFarneback(prvs, next, None, 0.5, 3, 25, 3, 5, 1.2, 0) # window 15\n",
        "    u_list[ff, :, :] = flow[:,:,0]\n",
        "    v_list[ff, :, :] = flow[:,:,1]\n",
        "  print('Time to compute OF:', time.time() - t1)\n",
        "  # save \n",
        "  if store:\n",
        "    save_path = os.path.join(data_path, folder)\n",
        "    os.makedirs(save_path, exist_ok=True)\n",
        "    hf = h5py.File(save_path + '/' + video_name + '.h5', 'w')\n",
        "    hf.create_dataset('u', data=u_list)\n",
        "    hf.create_dataset('v', data=v_list)\n",
        "    hf.close()\n",
        "\n",
        "  return u_list, v_list\n"
      ],
      "execution_count": 4,
      "outputs": []
    },
    {
      "cell_type": "code",
      "metadata": {
        "colab": {
          "base_uri": "https://localhost:8080/",
          "height": 265
        },
        "id": "Ss9y7oM3OHRm",
        "outputId": "8ab81103-b01c-462f-810b-2c19339f3fa9"
      },
      "source": [
        "def visualize(vv):\n",
        "  for i in range(vv.shape[0]):\n",
        "    clear_output(wait=True)\n",
        "\n",
        "    # Display the image here\n",
        "    plt.imshow(vv[i]) # cmap='gray')\n",
        "    \n",
        "    plt.show()\n",
        "    sleep(0.2)\n",
        "\n",
        "\n",
        "plt.imshow(frames[6], cmap='gray')\n",
        "plt.axis('off')"
      ],
      "execution_count": null,
      "outputs": [
        {
          "output_type": "execute_result",
          "data": {
            "text/plain": [
              "(-0.5, 639.5, 479.5, -0.5)"
            ]
          },
          "metadata": {
            "tags": []
          },
          "execution_count": 42
        },
        {
          "output_type": "display_data",
          "data": {
            "image/png": "[encoded data removed]",
            "text/plain": [
              "<Figure size 432x288 with 1 Axes>"
            ]
          },
          "metadata": {
            "tags": [],
            "needs_background": "light"
          }
        }
      ]
    },
    {
      "cell_type": "code",
      "metadata": {
        "id": "oaH3ZVOiOEaz"
      },
      "source": [
        "# load OF\n",
        "import h5py\n",
        "name = 'fall-27-cam0-rgb'\n",
        "\n",
        "def loadOF(path, name):\n",
        "  hf = h5py.File(path + name + '.h5', 'r')\n",
        "  # hf = h5py.File(main + 'opticalFlow/maia.h5', 'r')\n",
        "  u = hf.get('u')\n",
        "  u = np.array(u)\n",
        "\n",
        "  v = hf.get('v')\n",
        "  v = np.array(v)\n",
        "  hf.close()\n",
        "  return u, v\n",
        "\n",
        "folder = 'opticalFlow/nomean/'\n",
        "u, v = loadOF(main + folder, name)"
      ],
      "execution_count": 33,
      "outputs": []
    },
    {
      "cell_type": "code",
      "metadata": {
        "id": "l2Fb1AJK1xpt"
      },
      "source": [
        "def get_signals(u, v):\n",
        "  mag = u ** 2 + v ** 2\n",
        "  orient  = np.arctan2(v, u) * 180/np.pi\n",
        "  orient[orient < 0] += 360\n",
        "  bins = []\n",
        "  means = []\n",
        "  max_deviations = 1\n",
        "  for i in range(1, u.shape[0]):\n",
        "    # filter magnitude using stats of each frame\n",
        "    thrsh = max_deviations * mag[i].std()\n",
        "    upper = mag[i].mean() + mag[i].std()\n",
        "    # thrsh = 0.3\n",
        "    pos = np.where(mag[i] < thrsh)\n",
        "    mag[i, pos[0], pos[1]] = 0\n",
        "\n",
        "    filt_mag = mag[i][mag[i] >= thrsh]\n",
        "    # filt_mag = mag[i][np.logical_and(mag[i]>thrsh, mag[i]<upper)]\n",
        "    # append the mean magnitude above thrsh\n",
        "    means.append(filt_mag.mean())\n",
        "\n",
        "    hh, bb = np.histogram(orient[i].ravel(), bins=10, weights=mag[i].ravel(), density=True)\n",
        "    bins.append(hh.argmax())\n",
        "\n",
        "  return mag, orient, means, bins\n",
        "\n",
        "\n",
        "def get_prediction(means, gt, name, window, scale=1):\n",
        "  mm = np.array(means)\n",
        "  # depends on number of frames\n",
        "  # calculate approximate derivative\n",
        "  g = np.convolve(mm, np.ones(window)/window, 'same')\n",
        "  der = np.diff(g)\n",
        "\n",
        "  # upper = der.mean() + scale*der.std()\n",
        "  # lower = der.mean() - scale*der.std()\n",
        "  # der = der[np.logical_and(der>lower, der<upper)]\n",
        "  thrsh = der.mean() + 1 * der.std() # std is too large\n",
        "\n",
        "  # thrsh = np.percentile(der, 75) # this works better for urfd videos\n",
        "\n",
        "  print(thrsh)\n",
        "  try:\n",
        "    pred_on = np.where(der > thrsh)[0][0] + 1\n",
        "    pred_off = np.where(der > thrsh)[0][-1] + 1\n",
        "    # pred = np.argmax(der) + 1 \n",
        "  except:\n",
        "    pred_on = 0\n",
        "    pred_off = 0\n",
        "\n",
        "  return pred_on, pred_off, der"
      ],
      "execution_count": 5,
      "outputs": []
    },
    {
      "cell_type": "code",
      "metadata": {
        "id": "PuAG2YX2X1C-"
      },
      "source": [
        "# example\n",
        "mag, orient, means, bins = get_signals(u, v)"
      ],
      "execution_count": 28,
      "outputs": []
    },
    {
      "cell_type": "code",
      "metadata": {
        "colab": {
          "base_uri": "https://localhost:8080/"
        },
        "id": "gZLe1Xb_UsGk",
        "outputId": "f9c5eb43-4dae-45b5-d4d7-00a872637d48"
      },
      "source": [
        "# for the urfd\n",
        "main = '/content/drive/My Drive/Colab Notebooks/CV_notebooks/project/'\n",
        "data_dir = '/content/drive/My Drive/Colab Notebooks/DL_project/data/'\n",
        "\n",
        "names = os.listdir(data_dir)\n",
        "\n",
        "ann = pd.read_csv(main + 'urfall-cam0-falls_ann.csv')\n",
        "df = pd.DataFrame(columns = ['sequence_name', 'fall_label', 'fall_start_frame',\n",
        "                             'fall_end_frame', 'fall_pred', 'fall_start_pred',\n",
        "                             'fall_end_pred'])\n",
        "\n",
        "l_on = []\n",
        "l_off = []\n",
        "l_labels = []\n",
        "l_ts = []\n",
        "l_te = []\n",
        "\n",
        "\n",
        "for name in names:\n",
        "  print('Processing video ', name)\n",
        "  frames = load_video(data_dir, name, reduce=True)\n",
        "  u, v = calculateOF(frames, main, name, sub_mean=True)\n",
        "  mag, orient, means, bins = get_signals(u, v)\n",
        "\n",
        "  if 'fall' in name:\n",
        "    sub = ann[ann['sequence_name']==name]\n",
        "    gt = sub['t_s'].values[0]\n",
        "    te = sub['t_e'].values[0]\n",
        "    l_labels.append(1)\n",
        "  else:\n",
        "    gt = 0\n",
        "    te = 0\n",
        "    l_labels.append(0)\n",
        "\n",
        "  l_ts.append(gt)\n",
        "  l_te.append(te)\n",
        "\n",
        "  window = len(means) * 0.05\n",
        "  prediction_on, prediction_off, der = get_prediction(means, gt, name, int(window), 3)\n",
        "  l_on.append(prediction_on)\n",
        "  l_off.append(prediction_off)\n",
        "\n",
        "  "
      ],
      "execution_count": 13,
      "outputs": [
        {
          "output_type": "stream",
          "text": [
            "Processing video  fall-01-cam0-rgb\n",
            "Time to compute OF: 8.606117963790894\n",
            "3.176434132538002\n",
            "Processing video  fall-02-cam0-rgb\n",
            "Time to compute OF: 5.988484144210815\n",
            "4.205631843551038\n",
            "Processing video  fall-03-cam0-rgb\n",
            "Time to compute OF: 11.633836507797241\n",
            "2.059970695757674\n",
            "Processing video  fall-04-cam0-rgb\n",
            "Time to compute OF: 5.119309663772583\n",
            "3.3822555528484712\n",
            "Processing video  fall-05-cam0-rgb\n",
            "Time to compute OF: 8.265628337860107\n",
            "2.51063325298909\n",
            "Processing video  fall-06-cam0-rgb\n",
            "Time to compute OF: 5.486332178115845\n",
            "5.052217899089582\n",
            "Processing video  fall-07-cam0-rgb\n",
            "Time to compute OF: 11.27635669708252\n",
            "3.943758151547368\n",
            "Processing video  fall-08-cam0-rgb\n",
            "Time to compute OF: 5.069997549057007\n",
            "2.5655936898136553\n",
            "Processing video  fall-09-cam0-rgb\n",
            "Time to compute OF: 10.082397222518921\n",
            "2.2835851544425023\n",
            "Processing video  fall-10-cam0-rgb\n",
            "Time to compute OF: 7.188692808151245\n",
            "1.5407278743799446\n",
            "Processing video  fall-11-cam0-rgb\n",
            "Time to compute OF: 7.046471118927002\n",
            "4.428597542112324\n",
            "Processing video  fall-12-cam0-rgb\n",
            "Time to compute OF: 5.898351430892944\n",
            "2.1790253510980353\n",
            "Processing video  fall-13-cam0-rgb\n",
            "Time to compute OF: 4.61625337600708\n",
            "3.191550291624422\n",
            "Processing video  fall-14-cam0-rgb\n",
            "Time to compute OF: 3.2721059322357178\n",
            "2.5829620744844637\n",
            "Processing video  fall-21-cam0-rgb\n",
            "Time to compute OF: 2.9599571228027344\n",
            "6.491678767369928\n",
            "Processing video  fall-22-cam0-rgb\n",
            "Time to compute OF: 2.9893462657928467\n",
            "16.73388994594017\n",
            "Processing video  fall-15-cam0-rgb\n",
            "Time to compute OF: 3.857701063156128\n",
            "4.483029641703712\n",
            "Processing video  fall-16-cam0-rgb\n",
            "Time to compute OF: 2.920448064804077\n",
            "2.826843978899132\n",
            "Processing video  fall-17-cam0-rgb\n",
            "Time to compute OF: 5.34078049659729\n",
            "3.3349360346092993\n",
            "Processing video  fall-19-cam0-rgb\n",
            "Time to compute OF: 5.402280330657959\n",
            "3.6549396710006157\n",
            "Processing video  fall-20-cam0-rgb\n",
            "Time to compute OF: 5.930906772613525\n",
            "2.5722300012764374\n",
            "Processing video  fall-23-cam0-rgb\n",
            "Time to compute OF: 4.103446960449219\n",
            "3.177561034956065\n",
            "Processing video  fall-24-cam0-rgb\n",
            "Time to compute OF: 3.209235668182373\n",
            "5.543431610172431\n",
            "Processing video  fall-18-cam0-rgb\n",
            "Time to compute OF: 3.5065371990203857\n",
            "5.211798052672491\n",
            "Processing video  fall-25-cam0-rgb\n",
            "Time to compute OF: 4.590015649795532\n",
            "5.0093947503905945\n",
            "Processing video  fall-26-cam0-rgb\n",
            "Time to compute OF: 3.29866361618042\n",
            "7.4524196425346645\n",
            "Processing video  fall-27-cam0-rgb\n",
            "Time to compute OF: 4.962000608444214\n",
            "6.074557565658535\n",
            "Processing video  fall-28-cam0-rgb\n",
            "Time to compute OF: 3.779078960418701\n",
            "6.704318829150059\n",
            "Processing video  fall-29-cam0-rgb\n",
            "Time to compute OF: 5.4394166469573975\n",
            "5.071026534841957\n",
            "Processing video  fall-30-cam0-rgb\n",
            "Time to compute OF: 3.72782039642334\n",
            "9.728098900259118\n",
            "Processing video  adl-01-cam0-rgb\n",
            "Time to compute OF: 8.358834505081177\n",
            "0.4842642426103268\n",
            "Processing video  adl-02-cam0-rgb\n",
            "Time to compute OF: 9.98891282081604\n",
            "0.5157005641055408\n",
            "Processing video  adl-03-cam0-rgb\n",
            "Time to compute OF: 9.863122701644897\n",
            "0.8528323478882264\n",
            "Processing video  adl-04-cam0-rgb\n",
            "Time to compute OF: 8.192747116088867\n",
            "0.5023738297239219\n",
            "Processing video  adl-05-cam0-rgb\n",
            "Time to compute OF: 9.754428148269653\n",
            "0.8865989145927189\n",
            "Processing video  adl-06-cam0-rgb\n",
            "Time to compute OF: 12.756595849990845\n",
            "0.631198126666308\n",
            "Processing video  adl-07-cam0-rgb\n",
            "Time to compute OF: 9.809513330459595\n",
            "0.3970219910898125\n",
            "Processing video  adl-09-cam0-rgb\n",
            "Time to compute OF: 8.028257846832275\n",
            "0.4659644185464062\n",
            "Processing video  adl-31-cam0-rgb\n",
            "Time to compute OF: 14.202468872070312\n",
            "0.5440586190703034\n",
            "Processing video  adl-32-cam0-rgb\n",
            "Time to compute OF: 10.817135095596313\n",
            "0.5295228622399696\n",
            "Processing video  adl-33-cam0-rgb\n",
            "Time to compute OF: 10.941187381744385\n",
            "0.6024104289604345\n",
            "Processing video  adl-34-cam0-rgb\n",
            "Time to compute OF: 10.295985221862793\n",
            "0.6305730443243743\n",
            "Processing video  adl-35-cam0-rgb\n",
            "Time to compute OF: 15.139036655426025\n",
            "0.5619068136548875\n",
            "Processing video  adl-36-cam0-rgb\n",
            "Time to compute OF: 18.598726511001587\n",
            "0.4508539400717084\n",
            "Processing video  adl-38-cam0-rgb\n",
            "Time to compute OF: 18.870901346206665\n",
            "0.20703323839861915\n",
            "Processing video  adl-39-cam0-rgb\n",
            "Time to compute OF: 14.942522764205933\n",
            "0.4281276732879401\n",
            "Processing video  adl-40-cam0-rgb\n",
            "Time to compute OF: 17.87469506263733\n",
            "0.19167480702526773\n",
            "Processing video  adl-10-cam0-rgb\n",
            "Time to compute OF: 16.355279445648193\n",
            "0.8714924700483001\n",
            "Processing video  adl-11-cam0-rgb\n",
            "Time to compute OF: 16.369446754455566\n",
            "0.6881729753732445\n",
            "Processing video  adl-12-cam0-rgb\n",
            "Time to compute OF: 13.609511613845825\n",
            "0.6802007625376122\n",
            "Processing video  adl-13-cam0-rgb\n",
            "Time to compute OF: 14.528927326202393\n",
            "0.6976881274482097\n",
            "Processing video  adl-14-cam0-rgb\n",
            "Time to compute OF: 12.787057399749756\n",
            "1.3659583457176965\n",
            "Processing video  adl-15-cam0-rgb\n",
            "Time to compute OF: 15.666990280151367\n",
            "0.31289424568947505\n",
            "Processing video  adl-16-cam0-rgb\n",
            "Time to compute OF: 13.102579355239868\n",
            "0.660686426819996\n",
            "Processing video  adl-17-cam0-rgb\n",
            "Time to compute OF: 12.3930344581604\n",
            "0.7259770823253963\n",
            "Processing video  adl-18-cam0-rgb\n",
            "Time to compute OF: 14.188917636871338\n",
            "0.21683692652911365\n",
            "Processing video  adl-19-cam0-rgb\n",
            "Time to compute OF: 13.459630012512207\n",
            "0.20972603152062821\n",
            "Processing video  adl-20-cam0-rgb\n",
            "Time to compute OF: 14.647923469543457\n",
            "0.36430394476886513\n",
            "Processing video  adl-21-cam0-rgb\n",
            "Time to compute OF: 15.129481315612793\n",
            "0.1592184139288103\n",
            "Processing video  adl-22-cam0-rgb\n",
            "Time to compute OF: 12.97424030303955\n",
            "0.4803943119718178\n",
            "Processing video  adl-23-cam0-rgb\n",
            "Time to compute OF: 11.879212856292725\n",
            "0.6390079126810075\n",
            "Processing video  adl-24-cam0-rgb\n",
            "Time to compute OF: 3.73390531539917\n",
            "4.7396243829508755\n",
            "Processing video  adl-25-cam0-rgb\n",
            "Time to compute OF: 5.910644769668579\n",
            "0.34605713292781537\n",
            "Processing video  adl-26-cam0-rgb\n",
            "Time to compute OF: 5.134106636047363\n",
            "1.7340634997301207\n",
            "Processing video  adl-27-cam0-rgb\n",
            "Time to compute OF: 5.388759613037109\n",
            "0.7036830767557027\n",
            "Processing video  adl-28-cam0-rgb\n",
            "Time to compute OF: 4.595638751983643\n",
            "4.506760301748688\n",
            "Processing video  adl-29-cam0-rgb\n",
            "Time to compute OF: 6.764016389846802\n",
            "7.11916556455344\n",
            "Processing video  adl-30-cam0-rgb\n",
            "Time to compute OF: 21.939196825027466\n",
            "0.34961010519453395\n",
            "Processing video  adl-08-cam0-rgb\n",
            "Time to compute OF: 9.750849485397339\n",
            "0.46432229317150986\n",
            "Processing video  adl-37-cam0-rgb\n",
            "Time to compute OF: 19.327515602111816\n",
            "0.5890564367943032\n"
          ],
          "name": "stdout"
        }
      ]
    },
    {
      "cell_type": "code",
      "metadata": {
        "id": "1SCknq5N2Y-p"
      },
      "source": [
        "# save df\n",
        "df['sequence_name'] = names\n",
        "df['fall_label'] = l_labels\n",
        "df['fall_start_frame'] = l_ts\n",
        "df['fall_end_frame'] = l_te\n",
        "df['fall_start_pred'] = l_on\n",
        "df['fall_end_pred'] = l_off\n",
        "df['fall_pred']=(df['fall_start_pred'] != 0).values * 1\n",
        "df.to_csv(main + 'OF_only_urfd.csv', index=False)"
      ],
      "execution_count": 39,
      "outputs": []
    },
    {
      "cell_type": "code",
      "metadata": {
        "colab": {
          "base_uri": "https://localhost:8080/"
        },
        "id": "pSHXO5Vk8wUf",
        "outputId": "ee825d04-fad0-406c-c11a-9893745f014a"
      },
      "source": [
        "# for our database\n",
        "data_dir = '/content/drive/My Drive/our_fsall_dataset/'\n",
        "\n",
        "names = os.listdir(data_dir)\n",
        "\n",
        "ann = pd.read_csv(main + 'our_dataset_master.csv')\n",
        "df = pd.DataFrame(columns = ['sequence_name', 'fall_label', 'fall_start_frame',\n",
        "                             'fall_end_frame', 'fall_pred', 'fall_start_pred',\n",
        "                             'fall_end_pred'])\n",
        "\n",
        "def load_vid(data_path, video_name, reduce=False):\n",
        "  gif = cv2.VideoCapture(data_path + video_name)\n",
        "  num_frames = int(gif.get(cv2.CAP_PROP_FRAME_COUNT))\n",
        "  frames = []\n",
        "  for i in range(num_frames):\n",
        "    ret, frame = gif.read()\n",
        "    if ret:\n",
        "      frame_gray = cv2.cvtColor(frame, cv2.COLOR_BGR2GRAY)\n",
        "      img = frame_gray\n",
        "      # resize image\n",
        "      if reduce:\n",
        "        # img = reduce_spatial(img, 30)\n",
        "        img, _ = scaleArea(img)\n",
        "      frames.append(img)\n",
        "    else:\n",
        "      break\n",
        "  return np.array(frames)\n",
        "\n",
        "l_on = []\n",
        "l_off = []\n",
        "l_labels = []\n",
        "l_ts = []\n",
        "l_te = []\n",
        "for name in names:\n",
        "  print('Processing video ', name)\n",
        "  frames = load_vid(data_dir, name, reduce=True)\n",
        "  u, v = calculateOF(frames, main, name, sub_mean=True)\n",
        "  mag, orient, means, bins = get_signals(u, v)\n",
        "\n",
        "  sub = ann[ann['sequence_name']==name[:-4]]\n",
        "  if sub['fall_label'].values[0]:\n",
        "    gt = sub['fall_start_frame'].values[0]\n",
        "    te = sub['fall_end_frame'].values[0]\n",
        "    l_labels.append(1)\n",
        "  else:\n",
        "    gt = 0\n",
        "    te = 0\n",
        "    l_labels.append(0)\n",
        "\n",
        "  l_ts.append(gt)\n",
        "  l_te.append(te)\n",
        "\n",
        "  window = len(means) * 0.05\n",
        "  prediction_on, prediction_off, der = get_prediction(means, gt, name, int(window), 3)\n",
        "  l_on.append(prediction_on)\n",
        "  l_off.append(prediction_off)"
      ],
      "execution_count": 66,
      "outputs": [
        {
          "output_type": "stream",
          "text": [
            "Processing video  erica-01.mp4\n",
            "Time to compute OF: 4.321375846862793\n",
            "21.334004264774894\n",
            "Processing video  erica-02.mp4\n",
            "Time to compute OF: 9.03162956237793\n",
            "10.14714044408004\n",
            "Processing video  erica-04.mp4\n",
            "Time to compute OF: 14.732982397079468\n",
            "7.563259258794751\n",
            "Processing video  erica-03.mp4\n",
            "Time to compute OF: 6.67640233039856\n",
            "14.0813114107297\n",
            "Processing video  erica-05.mp4\n",
            "Time to compute OF: 4.1856911182403564\n",
            "29.7723652578133\n",
            "Processing video  erica-06.mp4\n",
            "Time to compute OF: 5.443610429763794\n",
            "3.69631842465205\n",
            "Processing video  erica-07.mp4\n",
            "Time to compute OF: 6.150372505187988\n",
            "21.439869715741462\n",
            "Processing video  erica-09.mp4\n",
            "Time to compute OF: 6.848491430282593\n",
            "15.058101407798093\n",
            "Processing video  erica-10.mp4\n",
            "Time to compute OF: 6.5856945514678955\n",
            "8.62774649651181\n",
            "Processing video  erica-12.mp4\n",
            "Time to compute OF: 11.932461738586426\n",
            "4.250670303838703\n",
            "Processing video  erica-11.mp4\n",
            "Time to compute OF: 9.481254577636719\n",
            "6.824966624093528\n",
            "Processing video  erica-08.mp4\n",
            "Time to compute OF: 9.9608736038208\n",
            "4.489796723749353\n",
            "Processing video  catalina-02.mov\n",
            "Time to compute OF: 7.032214641571045\n",
            "2.940557129878816\n",
            "Processing video  catalina-04.mov\n",
            "Time to compute OF: 6.748098611831665\n",
            "2.7220912067357372\n",
            "Processing video  catalina-06.mov\n",
            "Time to compute OF: 8.51554274559021\n",
            "2.390820042469511\n",
            "Processing video  catalina-08.mov\n",
            "Time to compute OF: 8.025799036026001\n",
            "0.7802992254779496\n",
            "Processing video  kinjal-03.mov\n",
            "Time to compute OF: 6.969184160232544\n",
            "10.57672918278562\n",
            "Processing video  kinjal-04.mov\n",
            "Time to compute OF: 13.054220914840698\n",
            "0.7852662665762241\n",
            "Processing video  kinjal-05.mov\n",
            "Time to compute OF: 8.750491619110107\n",
            "4.573787006207061\n",
            "Processing video  kinjal-06.mov\n",
            "Time to compute OF: 12.916028261184692\n",
            "1.2078588655923155\n",
            "Processing video  kinjal-07.mov\n",
            "Time to compute OF: 5.5531511306762695\n",
            "38.04715817204891\n",
            "Processing video  catalina-01.mov\n",
            "Time to compute OF: 5.149078607559204\n",
            "11.40805886308631\n",
            "Processing video  kinjal-08.mov\n",
            "Time to compute OF: 6.592748165130615\n",
            "9.907062361556644\n",
            "Processing video  kinjal-09.mov\n",
            "Time to compute OF: 10.073947191238403\n",
            "10.843524002923024\n",
            "Processing video  kinjal-10.mov\n",
            "Time to compute OF: 11.083745241165161\n",
            "3.9415106179243073\n",
            "Processing video  kinjal-02.mov\n",
            "Time to compute OF: 8.657449007034302\n",
            "3.4975748998559193\n",
            "Processing video  kinjal-01.mov\n",
            "Time to compute OF: 9.218798398971558\n",
            "2.740473321238311\n",
            "Processing video  maia-04.MOV\n",
            "Time to compute OF: 12.3577721118927\n",
            "1.5596079900350497\n",
            "Processing video  maia-03.MOV\n",
            "Time to compute OF: 10.391542196273804\n",
            "3.90917213533936\n",
            "Processing video  maia-02.MOV\n",
            "Time to compute OF: 9.21390151977539\n",
            "3.1392176944108727\n",
            "Processing video  maia-01.MOV\n",
            "Time to compute OF: 9.274326801300049\n",
            "7.05525394967971\n",
            "Processing video  maia-06.mov\n",
            "Time to compute OF: 11.143389701843262\n",
            "1.4492226354840363\n",
            "Processing video  maia-05.mov\n",
            "Time to compute OF: 16.294451475143433\n",
            "1.7519072512243894\n",
            "Processing video  maia-07.mov\n",
            "Time to compute OF: 7.73284649848938\n",
            "8.53952650312604\n",
            "Processing video  maia-08.mov\n",
            "Time to compute OF: 7.365034103393555\n",
            "2.897898627917247\n",
            "Processing video  catalina-03.mov\n",
            "Time to compute OF: 6.537492036819458\n",
            "7.901232893276559\n",
            "Processing video  catalina-05.mov\n",
            "Time to compute OF: 5.159909725189209\n",
            "5.456075427416094\n",
            "Processing video  catalina-07.mov\n",
            "Time to compute OF: 4.202558517456055\n",
            "5.563480726367606\n"
          ],
          "name": "stdout"
        }
      ]
    },
    {
      "cell_type": "code",
      "metadata": {
        "id": "kJcXhDCrAgiO"
      },
      "source": [
        "# save df\n",
        "df['sequence_name'] = [x[:-4] for x in names]\n",
        "df['fall_label'] = l_labels\n",
        "df['fall_start_frame'] = l_ts\n",
        "df['fall_end_frame'] = l_te\n",
        "df['fall_start_pred'] = l_on\n",
        "df['fall_end_pred'] = l_off\n",
        "df['fall_pred']=(df['fall_start_pred'] != 0).values * 1\n",
        "df.to_csv(main + 'OF_only_ours.csv', index=False)"
      ],
      "execution_count": 68,
      "outputs": []
    },
    {
      "cell_type": "code",
      "metadata": {
        "id": "sdKCfIxf4GJQ"
      },
      "source": [
        "falls = df[df['sequence_name'].str.contains('fall')]\n",
        "error_start = np.abs(falls['fall_start_frame'] - falls['fall_start_pred'])"
      ],
      "execution_count": null,
      "outputs": []
    },
    {
      "cell_type": "code",
      "metadata": {
        "colab": {
          "base_uri": "https://localhost:8080/",
          "height": 282
        },
        "id": "r04fsq4UEFLo",
        "outputId": "e8e023d9-4845-4125-8377-319fc196b6f0"
      },
      "source": [
        "plt.plot(der)"
      ],
      "execution_count": 69,
      "outputs": [
        {
          "output_type": "execute_result",
          "data": {
            "text/plain": [
              "[<matplotlib.lines.Line2D at 0x7fab4cf2e320>]"
            ]
          },
          "metadata": {
            "tags": []
          },
          "execution_count": 69
        },
        {
          "output_type": "display_data",
          "data": {
            "image/png": "[encoded data removed]",
            "text/plain": [
              "<Figure size 432x288 with 1 Axes>"
            ]
          },
          "metadata": {
            "tags": [],
            "needs_background": "light"
          }
        }
      ]
    },
    {
      "cell_type": "code",
      "metadata": {
        "colab": {
          "base_uri": "https://localhost:8080/",
          "height": 329
        },
        "id": "9qa6pFpos4Zj",
        "outputId": "9c1c507c-d065-4d2c-ee8d-01ec8b3ad449"
      },
      "source": [
        "def get_prediction(means, gt, name, window, scale=1):\n",
        "  mm = np.array(means)\n",
        "  # depends on number of frames\n",
        "  # calculate approximate derivative\n",
        "  g = np.convolve(mm, np.ones(window)/window, 'same')\n",
        "  der = np.diff(g)\n",
        "\n",
        "  # upper = der.mean() + scale*der.std()\n",
        "  # lower = der.mean() - scale*der.std()\n",
        "  # der = der[np.logical_and(der>lower, der<upper)]\n",
        "  thrsh = der.mean() + 1 * der.std() # std is too large\n",
        "\n",
        "  # thrsh = np.percentile(der, 75) # this works better for urfd videos\n",
        "\n",
        "  print(thrsh)\n",
        "  try:\n",
        "    pred_on = np.where(der > thrsh)[0][0] + 1\n",
        "    pred_off = np.where(der > thrsh)[0][-1] + 1\n",
        "    # pred = np.argmax(der) + 1 \n",
        "  except:\n",
        "    pred_on = 0\n",
        "    pred_off = 0\n",
        "\n",
        "  plt.plot(g)\n",
        "  plt.axvline(pred, color='r', linestyle='dashed', label='pred')\n",
        "  plt.axvline(gt, color='g', linestyle='dashed', label='gt')\n",
        "  # plt.title('Video {}-cam0 - error: {}'.format(name[:-4], np.round(abs(gt-pred), 4)))\n",
        "  plt.title('Video {} - error: {}'.format(name, np.round(abs(gt-pred), 4)))\n",
        "  # plt.title('Own video - error: {}'.format(np.round(abs(gt-pred), 4)))\n",
        "  plt.xlabel('Frame number')\n",
        "  plt.legend()\n",
        "  plt.ylabel('Average OF magnitude')\n",
        "\n",
        "  return pred_on, pred_off, der\n",
        "\n",
        "window = len(means) * 0.05\n",
        "prediction, der = get_prediction(means, gt, name, int(window), 3)\n",
        "print(prediction)"
      ],
      "execution_count": 20,
      "outputs": [
        {
          "output_type": "stream",
          "text": [
            "11.76246778540997\n",
            "68\n"
          ],
          "name": "stdout"
        },
        {
          "output_type": "display_data",
          "data": {
            "image/png": "[encoded data removed]",
            "text/plain": [
              "<Figure size 432x288 with 1 Axes>"
            ]
          },
          "metadata": {
            "tags": [],
            "needs_background": "light"
          }
        }
      ]
    },
    {
      "cell_type": "code",
      "metadata": {
        "colab": {
          "base_uri": "https://localhost:8080/",
          "height": 225
        },
        "id": "hPEWEuEHhVhC",
        "outputId": "8f6a0fb4-fecb-45c7-ac46-8812c1a9482c"
      },
      "source": [
        "def visualize(mag, u, v, frame=None):\n",
        "  if frame is not None:\n",
        "    ids = [frame]\n",
        "  else:\n",
        "    ids = list(range(u.shape[0]))\n",
        "  for ff in ids:\n",
        "    clear_output(wait=True)\n",
        "    fig, (ax1, ax2, ax3) = plt.subplots(1, 3, figsize=(11, 3))\n",
        "    width = u.shape[2]\n",
        "    height = u.shape[1]\n",
        "    x = np.arange(0, width, 1)\n",
        "    y = np.arange(0, height, 1)\n",
        "    x, y = np.meshgrid(x, y)\n",
        "    step = 10\n",
        "    ax1.imshow(mag[ff], cmap='hot', aspect='auto')\n",
        "    ax1.set_title('OF magnitude')\n",
        "    ax1.axis('off')\n",
        "    # plt.subplot(132)\n",
        "    ax2.quiver(x[::step, ::step], y[::step, ::step],\n",
        "              u[ff][::step, ::step], v[ff][::step, ::step],\n",
        "              color='r', pivot='middle', headwidth=2, headlength=3)\n",
        "    ax2.invert_yaxis()\n",
        "    ax2.set_title('OF vector field')\n",
        "    # plt.subplot(133)\n",
        "    max_deviations = 1\n",
        "    thrsh = max_deviations * mag[ff].std()\n",
        "    filt_mag = mag[ff][mag[ff]>=thrsh]\n",
        "    means.append(filt_mag.mean())\n",
        "    ax3.hist(filt_mag.ravel(), bins=10, density=True)\n",
        "    title = 'Histogram mag: mean {}, std {}'.format(np.round(mag[ff].mean(), 4), np.round(mag[ff].std(), 4))\n",
        "    ax3.set_title(title)\n",
        "    fig.tight_layout()\n",
        "\n",
        "    plt.show()\n",
        "    sleep(0.3)\n",
        "\n",
        "visualize(mag, u, v, frame=gt)"
      ],
      "execution_count": null,
      "outputs": [
        {
          "output_type": "display_data",
          "data": {
            "image/png": "[encoded data removed]",
            "text/plain": [
              "<Figure size 792x216 with 3 Axes>"
            ]
          },
          "metadata": {
            "tags": [],
            "needs_background": "light"
          }
        }
      ]
    },
    {
      "cell_type": "code",
      "metadata": {
        "id": "X86SPq_FS9Jw"
      },
      "source": [
        ""
      ],
      "execution_count": null,
      "outputs": []
    }
  ]
}