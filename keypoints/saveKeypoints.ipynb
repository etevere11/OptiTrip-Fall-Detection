{
  "nbformat": 4,
  "nbformat_minor": 0,
  "metadata": {
    "colab": {
      "name": "Copy of saveKeypoints.ipynb",
      "provenance": [],
      "private_outputs": true,
      "collapsed_sections": []
    },
    "kernelspec": {
      "name": "python3",
      "display_name": "Python 3"
    },
    "accelerator": "GPU"
  },
  "cells": [
    {
      "cell_type": "code",
      "metadata": {
        "id": "ggpthOSdBFWy"
      },
      "source": [
        "# install dependencies: \n",
        "!pip install pyyaml==5.1\n",
        "import torch, torchvision\n",
        "print(torch.__version__, torch.cuda.is_available())\n",
        "!gcc --version\n",
        "# opencv is pre-installed on colab\n",
        "assert torch.__version__.startswith(\"1.7\")\n",
        "!pip install detectron2 -f https://dl.fbaipublicfiles.com/detectron2/wheels/cu101/torch1.7/index.html"
      ],
      "execution_count": null,
      "outputs": []
    },
    {
      "cell_type": "code",
      "metadata": {
        "id": "L-6FOICnBroB"
      },
      "source": [
        "# Some basic setup:\n",
        "# Setup detectron2 logger\n",
        "import detectron2\n",
        "from detectron2.utils.logger import setup_logger\n",
        "setup_logger()\n",
        "\n",
        "# import some common detectron2 utilities\n",
        "from detectron2 import model_zoo\n",
        "from detectron2.engine import DefaultPredictor\n",
        "from detectron2.config import get_cfg\n",
        "#from detectron2.utils.visualizer import Visualizer\n",
        "from detectron2.data import MetadataCatalog, DatasetCatalog\n",
        "\n",
        "\n",
        "# import some common libraries\n",
        "import numpy as np\n",
        "import os, json, cv2, random\n",
        "from google.colab.patches import cv2_imshow\n",
        "import sys\n",
        "import time\n",
        "import pickle\n",
        "import glob\n",
        "import matplotlib.pyplot as plt\n",
        "import tqdm"
      ],
      "execution_count": null,
      "outputs": []
    },
    {
      "cell_type": "code",
      "metadata": {
        "id": "6qA-ZqeHNw9c"
      },
      "source": [
        "## Initialize class for predictor functions\n",
        "class ReturnPredictions(object):\n",
        "    def __init__(self,cfg):\n",
        "        self.predictor = DefaultPredictor(cfg)\n",
        "        self.metadata = MetadataCatalog.get(\n",
        "                cfg.DATASETS.TEST[0] if len(cfg.DATASETS.TEST) else \"__unused\")\n",
        "\n",
        "    def _frame_from_video(self,video):\n",
        "        while video.isOpened():\n",
        "            success,frame = video.read()\n",
        "            if success:\n",
        "                yield frame\n",
        "            else:\n",
        "                break\n",
        "\n",
        "    def run_on_video(self,video):\n",
        "        frame_gen = self._frame_from_video(video)\n",
        "        for frame in frame_gen:\n",
        "            yield self.predictor(frame)\n",
        "\n",
        "    def run_on_image(self,image):\n",
        "      # Convert image from OpenCV BGR format to Matplotlib RGB format.\n",
        "      yield self.predictor(image)\n",
        "\n",
        "\n",
        "## Load and setup model and predictor\n",
        "cfg = get_cfg()\n",
        "\n",
        "cfg.merge_from_file(model_zoo.get_config_file(\"COCO-Keypoints/keypoint_rcnn_R_50_FPN_3x.yaml\"))\n",
        "\n",
        "cfg.MODEL.ROI_HEADS.SCORE_THRESH_TEST = 0.5  # set threshold for this model\n",
        "# Find a model from detectron2's model zoo. You can use the https://dl.fbaipublicfiles... url as well\n",
        "cfg.MODEL.WEIGHTS = model_zoo.get_checkpoint_url(\"COCO-Keypoints/keypoint_rcnn_R_50_FPN_3x.yaml\")\n",
        "\n",
        "predictor = ReturnPredictions(cfg)\n"
      ],
      "execution_count": null,
      "outputs": []
    },
    {
      "cell_type": "code",
      "metadata": {
        "id": "3Waw5v0gGKUQ"
      },
      "source": [
        "from google.colab import drive\n",
        "drive.mount('/content/drive')\n",
        "rootPath = '/content/drive/My Drive/DL_CV_FinalProject/'\n",
        "\n",
        "## Check for GPU \n",
        "gpu_check = torch.cuda.is_available()\n",
        "print(gpu_check)"
      ],
      "execution_count": null,
      "outputs": []
    },
    {
      "cell_type": "code",
      "metadata": {
        "id": "hk866-gwI6cE"
      },
      "source": [
        "\n",
        "videoID = 'fall-01-cam0-rgb'\n",
        "allImgNames=sorted(glob.glob('/content/drive/My Drive/DL_CV_FinalProject/'+ videoID + '/*.png'))\n",
        "\n",
        "testImg = cv2.imread(allImgNames[0])\n",
        "print(testImg.shape)\n",
        "\n",
        "plt.imshow(testImg)"
      ],
      "execution_count": null,
      "outputs": []
    },
    {
      "cell_type": "code",
      "metadata": {
        "id": "OXU7DejOCSkS"
      },
      "source": [
        "storeKeypoints = np.zeros((len(allImgNames),17,3))\n",
        "\n",
        "imgID = 1\n",
        "for i in range(len(allImgNames)):\n",
        "  #print('\\n----------')\n",
        "  print('----Image #:', imgID)\n",
        "  fname = allImgNames[i]\n",
        "  img = cv2.imread(fname)\n",
        "  # if running on video change the line below to \"run_on_video\"\n",
        "  output_generator = predictor.run_on_image(img)\n",
        "\n",
        "  for output in output_generator:\n",
        "    countOuts += 1\n",
        "    imgH,imgW = output['instances'].image_size\n",
        "    personScore = output['instances'].scores.cpu().numpy()\n",
        "    keypoints_all = output['instances'].pred_keypoints.cpu().numpy()\n",
        "    person_scores = output['instances'].scores.cpu().numpy()\n",
        "    idx_scores_valid = np.argwhere(person_scores>0.75)\n",
        "\n",
        "    imgID += 1\n",
        "\n",
        "\n",
        "  if len(idx_scores_valid) == 0:\n",
        "    print('Could not detect person!')\n",
        "    print(fname)\n",
        "  elif len(idx_scores_valid) == 1:\n",
        "    #print('Valid case')\n",
        "    storeKeypoints[i] = keypoints_all[idx_scores_valid]\n",
        "  elif len(idx_scores_valid) > 1:\n",
        "    print('ERROR: More than one person detected! This script is only valid for videos with 1 person so selecting person with max score. ')\n",
        "    print(fname)\n",
        "    storeKeypoints[i] = keypoints_all[np.argmax(person_scores)]\n",
        "  \n",
        "  try:\n",
        "    print(\"All Scores:\",person_scores)\n",
        "    imgCopy = img.copy()\n",
        "    for key in keypoints_all:\n",
        "      for pt in key:\n",
        "        cv2.circle(imgCopy, (pt[0],pt[1]), 3, (255,0,0), -1)\n",
        "\n",
        "    plt.imshow(imgCopy)\n",
        "    plt.show()\n",
        "  except: \n",
        "    print(\"All Scores:\",person_scores)\n",
        "    print('Could not draw points')\n",
        "  \n",
        "#### From detectron2 Code ####\n",
        "# COCO_PERSON_KEYPOINT_NAMES = (\n",
        "#     \"nose\",\n",
        "#     \"left_eye\", \"right_eye\",\n",
        "#     \"left_ear\", \"right_ear\",\n",
        "#     \"left_shoulder\", \"right_shoulder\",\n",
        "#     \"left_elbow\", \"right_elbow\",\n",
        "#     \"left_wrist\", \"right_wrist\",\n",
        "#     \"left_hip\", \"right_hip\",\n",
        "#     \"left_knee\", \"right_knee\",\n",
        "#     \"left_ankle\", \"right_ankle\",\n",
        "# )"
      ],
      "execution_count": null,
      "outputs": []
    },
    {
      "cell_type": "code",
      "metadata": {
        "id": "EWGZePfdBuXl"
      },
      "source": [
        "savePath = rootPath + 'keypoints/'\n",
        "np.save(savePath + videoID + '.npy',storeKeypoints)"
      ],
      "execution_count": null,
      "outputs": []
    },
    {
      "cell_type": "code",
      "metadata": {
        "id": "PXb5XOWWM9EB"
      },
      "source": [
        ""
      ],
      "execution_count": null,
      "outputs": []
    }
  ]
}